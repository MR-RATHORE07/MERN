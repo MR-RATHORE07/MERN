{
 "cells": [
  {
   "cell_type": "code",
   "execution_count": 2,
   "metadata": {},
   "outputs": [
    {
     "name": "stdout",
     "output_type": "stream",
     "text": [
      "The sum of a and b is 30\n"
     ]
    }
   ],
   "source": [
    "def kuchbhi():\n",
    "    a = 10\n",
    "    b = 20\n",
    "    c = a + b\n",
    "    print(f'The sum of a and b is {c}')\n",
    "\n",
    "kuchbhi()"
   ]
  },
  {
   "cell_type": "code",
   "execution_count": 12,
   "metadata": {},
   "outputs": [
    {
     "data": {
      "text/plain": [
       "str"
      ]
     },
     "execution_count": 12,
     "metadata": {},
     "output_type": "execute_result"
    }
   ],
   "source": [
    "name = \"Aman\"\n",
    "city = 'London'\n",
    "#type check\n",
    "type(name)"
   ]
  },
  {
   "cell_type": "code",
   "execution_count": 6,
   "metadata": {},
   "outputs": [
    {
     "name": "stdout",
     "output_type": "stream",
     "text": [
      "11\n",
      "31\n"
     ]
    }
   ],
   "source": [
    "a = 10\n",
    "b = 20\n",
    "# update\n",
    "a = 11\n",
    "b = a + b\n",
    "print(a)\n",
    "print(b)"
   ]
  },
  {
   "cell_type": "code",
   "execution_count": 7,
   "metadata": {},
   "outputs": [
    {
     "name": "stdout",
     "output_type": "stream",
     "text": [
      "42\n",
      "-20\n",
      "0.3548387096774194\n",
      "341\n",
      "191943424957750480504146841291811\n",
      "0\n",
      "11\n"
     ]
    }
   ],
   "source": [
    "# operators\n",
    "print(a + b)\n",
    "print(a - b)\n",
    "print(a / b) # float division\n",
    "print(a * b)\n",
    "print(a ** b) # exponentiation\n",
    "print(a // b) #integer division\n",
    "print(a % b)  #modulo(remainder)"
   ]
  },
  {
   "cell_type": "code",
   "execution_count": 8,
   "metadata": {},
   "outputs": [
    {
     "name": "stdout",
     "output_type": "stream",
     "text": [
      "5\n",
      "15\n"
     ]
    }
   ],
   "source": [
    "x = 5\n",
    "print(x)\n",
    "x += 10\n",
    "print(x)"
   ]
  },
  {
   "cell_type": "code",
   "execution_count": null,
   "metadata": {},
   "outputs": [],
   "source": [
    "# comparison operators\n",
    "print(x > 10) #gt\n",
    "print(x < 10)\n",
    "print(x <= 10)\n",
    "print(x >= 10) #gte\n",
    "print(x == 10)  #equality"
   ]
  },
  {
   "cell_type": "code",
   "execution_count": 9,
   "metadata": {},
   "outputs": [
    {
     "name": "stdout",
     "output_type": "stream",
     "text": [
      "True\n",
      "False\n",
      "True\n",
      "True\n"
     ]
    }
   ],
   "source": [
    "# logical operators (and, or, not)\n",
    "\n",
    "print(x>10 and x<20)\n",
    "print(x<10 and x<20)\n",
    "print(x<10 or x<20)\n",
    "print(not a > b)"
   ]
  },
  {
   "cell_type": "code",
   "execution_count": 25,
   "metadata": {},
   "outputs": [
    {
     "name": "stdout",
     "output_type": "stream",
     "text": [
      "['apple', 'banana', 'cherry']\n",
      "True\n",
      "True\n",
      "True\n",
      "True\n"
     ]
    }
   ],
   "source": [
    "#membership operators (in, not in)\n",
    "fruits =['apple','banana', 'cherry']\n",
    "print(fruits)\n",
    "print('apple' in fruits)\n",
    "print('banana' in fruits)\n",
    "print('cherry' in fruits)\n",
    "print('cherry' in fruits and 'mango' not in fruits)\n",
    "\n",
    "\n"
   ]
  },
  {
   "cell_type": "code",
   "execution_count": 1,
   "metadata": {},
   "outputs": [
    {
     "name": "stdout",
     "output_type": "stream",
     "text": [
      "a is greater than 5\n"
     ]
    }
   ],
   "source": [
    "a = 10\n",
    "if a>5:\n",
    "    print(\"a is greater than 5\")\n",
    "\n"
   ]
  },
  {
   "cell_type": "code",
   "execution_count": 3,
   "metadata": {},
   "outputs": [
    {
     "name": "stdout",
     "output_type": "stream",
     "text": [
      "a is smaller than 15\n"
     ]
    }
   ],
   "source": [
    "if a > 16:\n",
    "    print(\"a is greater than 15\")\n",
    "else:\n",
    "    print(\"a is smaller than 15\")"
   ]
  },
  {
   "cell_type": "code",
   "execution_count": 7,
   "metadata": {},
   "outputs": [
    {
     "name": "stdout",
     "output_type": "stream",
     "text": [
      "b is the greatest\n"
     ]
    }
   ],
   "source": [
    "a, b, c = 10, 50, 30\n",
    "if a > b and a > c:\n",
    "    print(\"a is the greatest\")\n",
    "elif b > a and b > c:\n",
    "     print(\"b is the greatest\")\n",
    "else: \n",
    "    print(\"c is the greatest\")"
   ]
  },
  {
   "cell_type": "code",
   "execution_count": 9,
   "metadata": {},
   "outputs": [
    {
     "name": "stdout",
     "output_type": "stream",
     "text": [
      "1\n",
      "2\n",
      "3\n",
      "4\n",
      "5\n"
     ]
    }
   ],
   "source": [
    "numbers =[1, 2, 3, 4, 5]\n",
    "for n in numbers:\n",
    "      print(f\"{n}\")"
   ]
  },
  {
   "cell_type": "code",
   "execution_count": 12,
   "metadata": {},
   "outputs": [
    {
     "name": "stdout",
     "output_type": "stream",
     "text": [
      "mango\n",
      "apple\n",
      "grapes\n",
      "pineapple\n",
      "watermelon\n"
     ]
    }
   ],
   "source": [
    "fruits = ['mango', 'apple', '','grapes', '','pineapple','watermelon']\n",
    "for fruit in fruits:\n",
    "    if len(fruit) == 0:\n",
    "        continue       #skip\n",
    "    print(fruit)"
   ]
  },
  {
   "cell_type": "code",
   "execution_count": 16,
   "metadata": {},
   "outputs": [
    {
     "name": "stdout",
     "output_type": "stream",
     "text": [
      "35\n"
     ]
    }
   ],
   "source": [
    "number = 237409028\n",
    "total = 0\n",
    "while number > 0:\n",
    "     total += number % 10\n",
    "     number //= 10 \n",
    "print(total)"
   ]
  },
  {
   "cell_type": "code",
   "execution_count": 23,
   "metadata": {},
   "outputs": [
    {
     "name": "stdout",
     "output_type": "stream",
     "text": [
      "['leo', 'salar', 'kalki', 'bahubali', 'bahubali2']\n",
      "['leo', 'salar', 'kalki', 'bahubali', 'bahubali2']\n",
      "['leo', 'salar', 'kalki', 'bahubali', 'bahubali2']\n",
      "['leo', 'salar', 'kalki', 'bahubali', 'bahubali2']\n",
      "['leo', 'salar', 'kalki', 'bahubali', 'bahubali2']\n"
     ]
    }
   ],
   "source": [
    "movies = [\"leo\", \"salar\",\"kalki\",\"bahubali\",\"bahubali2\"]\n",
    "x =[1,3,3,2,4]\n",
    "nested_list =[[1,3,2,4,],[5,4,6,7]]\n",
    "for movie in movies:  \n",
    "   print(movies)"
   ]
  },
  {
   "cell_type": "code",
   "execution_count": 21,
   "metadata": {},
   "outputs": [
    {
     "name": "stdout",
     "output_type": "stream",
     "text": [
      "leo\n",
      "salar\n",
      "kalki\n",
      "bahubali\n",
      "bahubali2\n",
      "dhoom\n",
      "gadar\n",
      "tere naam\n"
     ]
    }
   ],
   "source": [
    "movies.append('dhoom')\n",
    "movies.append('gadar')\n",
    "movies.append('tere naam')\n",
    "for movie in movies:\n",
    "    print(movie)\n",
    "    "
   ]
  },
  {
   "cell_type": "code",
   "execution_count": 22,
   "metadata": {},
   "outputs": [
    {
     "name": "stdout",
     "output_type": "stream",
     "text": [
      "leo\n",
      "salar\n",
      "kalki\n",
      "bahubali2\n",
      "dhoom\n",
      "tere naam\n"
     ]
    }
   ],
   "source": [
    "movies.remove('gadar')\n",
    "movies.remove('bahubali')\n",
    "for movie in movies:\n",
    "    print(movie)"
   ]
  },
  {
   "cell_type": "markdown",
   "metadata": {},
   "source": [
    "# Dictionary"
   ]
  },
  {
   "cell_type": "code",
   "execution_count": 1,
   "metadata": {},
   "outputs": [
    {
     "name": "stdout",
     "output_type": "stream",
     "text": [
      "sabzi ka kharcha 250 rupay\n",
      "dawai ka kharcha 1000 rupay\n",
      "phal ka kharcha 100 rupay\n",
      "recharge ka kharcha 800 rupay\n"
     ]
    }
   ],
   "source": [
    "kharche = {\n",
    "    'sabzi': 250,\n",
    "    'dawai': 1000,\n",
    "    'phal' : 100,\n",
    "    'recharge': 800,\n",
    "}\n",
    "#traversal(loop)\n",
    "for k,v in kharche.items():\n",
    "    print(f\"{k} ka kharcha {v} rupay\")"
   ]
  },
  {
   "cell_type": "markdown",
   "metadata": {},
   "source": [
    "# Function"
   ]
  },
  {
   "cell_type": "markdown",
   "metadata": {},
   "source": [
    "import math\n",
    "h =math.sqrt()"
   ]
  },
  {
   "cell_type": "code",
   "execution_count": 3,
   "metadata": {},
   "outputs": [
    {
     "name": "stdout",
     "output_type": "stream",
     "text": [
      "17.69180601295413\n",
      "5.0\n",
      "15.811388300841896\n",
      "19.924858845171276\n"
     ]
    }
   ],
   "source": [
    "import math\n",
    "p,b = 12 ,13\n",
    "h = math.sqrt(p**2 + b**2)\n",
    "print(h)\n",
    "p,b = 3,4\n",
    "h = math.sqrt(p**2 + b**2)\n",
    "print(h)\n",
    "p,b = 5,15\n",
    "h = math.sqrt(p**2 + b**2)\n",
    "print(h)\n",
    "p,b = 6,19\n",
    "h = math.sqrt(p**2 + b**2)\n",
    "print(h)\n"
   ]
  },
  {
   "cell_type": "code",
   "execution_count": 6,
   "metadata": {},
   "outputs": [],
   "source": [
    "#defina\n",
    "def hyp(p,b):\n",
    "    ans = math.sqrt(p**2 + b**2)\n",
    "    return ans"
   ]
  },
  {
   "cell_type": "code",
   "execution_count": 12,
   "metadata": {},
   "outputs": [
    {
     "name": "stdout",
     "output_type": "stream",
     "text": [
      "5.0\n",
      "17.69180601295413\n",
      "52.009614495783374\n",
      "20.518284528683193\n"
     ]
    }
   ],
   "source": [
    "#calling (usage)\n",
    "print(hyp(3,4))\n",
    "print(hyp(13,12))\n",
    "print(hyp(32,41))\n",
    "print(hyp(15,14))"
   ]
  },
  {
   "cell_type": "code",
   "execution_count": 10,
   "metadata": {},
   "outputs": [],
   "source": [
    "def abbr_generator(data):\n",
    "    words = data.split(',')\n",
    "    print(words)\n",
    "    abbreviations = []\n",
    "    for word in words:\n",
    "        print(word)\n",
    "        clean_word = word.strip()\n",
    "        abbr = ''\n",
    "        for item in clean_word.split():\n",
    "            print(item)\n",
    "            abbr += item[0].upper()\n",
    "            print(abbr)\n",
    "        abbreviations.append(abbr)\n",
    "    return abbreviations"
   ]
  },
  {
   "cell_type": "code",
   "execution_count": 11,
   "metadata": {},
   "outputs": [
    {
     "data": {
      "text/plain": [
       "['AN', 'BW', 'SJ', 'RDJ']"
      ]
     },
     "execution_count": 11,
     "metadata": {},
     "output_type": "execute_result"
    }
   ],
   "source": [
    "abbr_generator('Alex newman, Bruce Wayne,Samuel Jackson,Robert Doweny Jr')"
   ]
  },
  {
   "cell_type": "code",
   "execution_count": 13,
   "metadata": {},
   "outputs": [],
   "source": [
    "def word_count(sentence):\n",
    "    words = sentence.split()\n",
    "    size = len(words)\n",
    "    return size"
   ]
  },
  {
   "cell_type": "code",
   "execution_count": 15,
   "metadata": {},
   "outputs": [
    {
     "data": {
      "text/plain": [
       "4"
      ]
     },
     "execution_count": 15,
     "metadata": {},
     "output_type": "execute_result"
    }
   ],
   "source": [
    "word_count(\"I want to play\")"
   ]
  },
  {
   "cell_type": "code",
   "execution_count": 16,
   "metadata": {},
   "outputs": [
    {
     "data": {
      "text/plain": [
       "13"
      ]
     },
     "execution_count": 16,
     "metadata": {},
     "output_type": "execute_result"
    }
   ],
   "source": [
    "word_count(\"to learn coding, first you have to learn to look at the screen\")"
   ]
  },
  {
   "cell_type": "markdown",
   "metadata": {},
   "source": [
    "# Class and Object\n"
   ]
  },
  {
   "cell_type": "markdown",
   "metadata": {},
   "source": []
  }
 ],
 "metadata": {
  "kernelspec": {
   "display_name": "Python 3",
   "language": "python",
   "name": "python3"
  },
  "language_info": {
   "codemirror_mode": {
    "name": "ipython",
    "version": 3
   },
   "file_extension": ".py",
   "mimetype": "text/x-python",
   "name": "python",
   "nbconvert_exporter": "python",
   "pygments_lexer": "ipython3",
   "version": "3.12.4"
  }
 },
 "nbformat": 4,
 "nbformat_minor": 2
}
