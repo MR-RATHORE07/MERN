{
 "cells": [
  {
   "cell_type": "code",
   "execution_count": 3,
   "metadata": {},
   "outputs": [
    {
     "name": "stdout",
     "output_type": "stream",
     "text": [
      "The sum of a and b is 30\n"
     ]
    }
   ],
   "source": [
    "def kuchbhi():\n",
    "    a = 10\n",
    "    b = 20\n",
    "    c = a + b\n",
    "    print(f'The sum of a and b is {c}')\n",
    "\n",
    "kuchbhi()"
   ]
  },
  {
   "cell_type": "code",
   "execution_count": 12,
   "metadata": {},
   "outputs": [
    {
     "data": {
      "text/plain": [
       "str"
      ]
     },
     "execution_count": 12,
     "metadata": {},
     "output_type": "execute_result"
    }
   ],
   "source": [
    "name = \"Aman\"\n",
    "city = 'London'\n",
    "#type check\n",
    "type(name)"
   ]
  },
  {
   "cell_type": "code",
   "execution_count": 6,
   "metadata": {},
   "outputs": [
    {
     "name": "stdout",
     "output_type": "stream",
     "text": [
      "11\n",
      "31\n"
     ]
    }
   ],
   "source": [
    "a = 10\n",
    "b = 20\n",
    "# update\n",
    "a = 11\n",
    "b = a + b\n",
    "print(a)\n",
    "print(b)"
   ]
  },
  {
   "cell_type": "code",
   "execution_count": 7,
   "metadata": {},
   "outputs": [
    {
     "name": "stdout",
     "output_type": "stream",
     "text": [
      "42\n",
      "-20\n",
      "0.3548387096774194\n",
      "341\n",
      "191943424957750480504146841291811\n",
      "0\n",
      "11\n"
     ]
    }
   ],
   "source": [
    "# operators\n",
    "print(a + b)\n",
    "print(a - b)\n",
    "print(a / b) # float division\n",
    "print(a * b)\n",
    "print(a ** b) # exponentiation\n",
    "print(a // b) #integer division\n",
    "print(a % b)  #modulo(remainder)"
   ]
  },
  {
   "cell_type": "code",
   "execution_count": 8,
   "metadata": {},
   "outputs": [
    {
     "name": "stdout",
     "output_type": "stream",
     "text": [
      "5\n",
      "15\n"
     ]
    }
   ],
   "source": [
    "x = 5\n",
    "print(x)\n",
    "x += 10\n",
    "print(x)"
   ]
  },
  {
   "cell_type": "code",
   "execution_count": null,
   "metadata": {},
   "outputs": [],
   "source": [
    "# comparison operators\n",
    "print(x > 10) #gt\n",
    "print(x < 10)\n",
    "print(x <= 10)\n",
    "print(x >= 10) #gte\n",
    "print(x == 10)  #equality"
   ]
  },
  {
   "cell_type": "code",
   "execution_count": 9,
   "metadata": {},
   "outputs": [
    {
     "name": "stdout",
     "output_type": "stream",
     "text": [
      "True\n",
      "False\n",
      "True\n",
      "True\n"
     ]
    }
   ],
   "source": [
    "# logical operators (and, or, not)\n",
    "\n",
    "print(x>10 and x<20)\n",
    "print(x<10 and x<20)\n",
    "print(x<10 or x<20)\n",
    "print(not a > b)"
   ]
  },
  {
   "cell_type": "code",
   "execution_count": 11,
   "metadata": {},
   "outputs": [
    {
     "name": "stdout",
     "output_type": "stream",
     "text": [
      "['apple', 'banana', 'cherry']\n",
      "True\n",
      "True\n",
      "True\n",
      "True\n"
     ]
    }
   ],
   "source": [
    "#membership operators (in, not in)\n",
    "fruits =['apple','banana', 'cherry']\n",
    "print(fruits)\n",
    "print('apple' in fruits)\n",
    "print('banana' in fruits)\n",
    "print('cherry' in fruits)\n",
    "print('cherry' in fruits and 'mango' not in fruits)\n",
    "\n",
    "\n"
   ]
  },
  {
   "cell_type": "code",
   "execution_count": 1,
   "metadata": {},
   "outputs": [
    {
     "name": "stdout",
     "output_type": "stream",
     "text": [
      "a is greater than 5\n"
     ]
    }
   ],
   "source": [
    "a = 10\n",
    "if a>5:\n",
    "    print(\"a is greater than 5\")\n",
    "\n"
   ]
  },
  {
   "cell_type": "code",
   "execution_count": 3,
   "metadata": {},
   "outputs": [
    {
     "name": "stdout",
     "output_type": "stream",
     "text": [
      "a is smaller than 15\n"
     ]
    }
   ],
   "source": [
    "if a > 16:\n",
    "    print(\"a is greater than 15\")\n",
    "else:\n",
    "    print(\"a is smaller than 15\")"
   ]
  },
  {
   "cell_type": "code",
   "execution_count": 7,
   "metadata": {},
   "outputs": [
    {
     "name": "stdout",
     "output_type": "stream",
     "text": [
      "b is the greatest\n"
     ]
    }
   ],
   "source": [
    "a, b, c = 10, 50, 30\n",
    "if a > b and a > c:\n",
    "    print(\"a is the greatest\")\n",
    "elif b > a and b > c:\n",
    "     print(\"b is the greatest\")\n",
    "else: \n",
    "    print(\"c is the greatest\")"
   ]
  },
  {
   "cell_type": "code",
   "execution_count": 9,
   "metadata": {},
   "outputs": [
    {
     "name": "stdout",
     "output_type": "stream",
     "text": [
      "1\n",
      "2\n",
      "3\n",
      "4\n",
      "5\n"
     ]
    }
   ],
   "source": [
    "numbers =[1, 2, 3, 4, 5]\n",
    "for n in numbers:\n",
    "      print(f\"{n}\")"
   ]
  },
  {
   "cell_type": "code",
   "execution_count": 12,
   "metadata": {},
   "outputs": [
    {
     "name": "stdout",
     "output_type": "stream",
     "text": [
      "mango\n",
      "apple\n",
      "grapes\n",
      "pineapple\n",
      "watermelon\n"
     ]
    }
   ],
   "source": [
    "fruits = ['mango', 'apple', '','grapes', '','pineapple','watermelon']\n",
    "for fruit in fruits:\n",
    "    if len(fruit) == 0:\n",
    "        continue       #skip\n",
    "    print(fruit)"
   ]
  },
  {
   "cell_type": "code",
   "execution_count": 16,
   "metadata": {},
   "outputs": [
    {
     "name": "stdout",
     "output_type": "stream",
     "text": [
      "35\n"
     ]
    }
   ],
   "source": [
    "number = 237409028\n",
    "total = 0\n",
    "while number > 0:\n",
    "     total += number % 10\n",
    "     number //= 10 \n",
    "print(total)"
   ]
  },
  {
   "cell_type": "code",
   "execution_count": 20,
   "metadata": {},
   "outputs": [
    {
     "name": "stdout",
     "output_type": "stream",
     "text": [
      "['leo', 'salar', 'kalki', 'bahubali', 'bahubali2']\n",
      "['leo', 'salar', 'kalki', 'bahubali', 'bahubali2']\n",
      "['leo', 'salar', 'kalki', 'bahubali', 'bahubali2']\n",
      "['leo', 'salar', 'kalki', 'bahubali', 'bahubali2']\n",
      "['leo', 'salar', 'kalki', 'bahubali', 'bahubali2']\n"
     ]
    }
   ],
   "source": [
    "movies = [\"leo\", \"salar\",\"kalki\",\"bahubali\",\"bahubali2\"]\n",
    "x =[1,3,3,2,4]\n",
    "nested_list =[[1,3,2,4,],[5,4,6,7]]\n",
    "for movie in movies:  \n",
    "   print(movies)"
   ]
  },
  {
   "cell_type": "code",
   "execution_count": 21,
   "metadata": {},
   "outputs": [
    {
     "name": "stdout",
     "output_type": "stream",
     "text": [
      "leo\n",
      "salar\n",
      "kalki\n",
      "bahubali\n",
      "bahubali2\n",
      "dhoom\n",
      "gadar\n",
      "tere naam\n"
     ]
    }
   ],
   "source": [
    "movies.append('dhoom')\n",
    "movies.append('gadar')\n",
    "movies.append('tere naam')\n",
    "for movie in movies:\n",
    "    print(movie)\n",
    "    "
   ]
  },
  {
   "cell_type": "code",
   "execution_count": 22,
   "metadata": {},
   "outputs": [
    {
     "name": "stdout",
     "output_type": "stream",
     "text": [
      "leo\n",
      "salar\n",
      "kalki\n",
      "bahubali2\n",
      "dhoom\n",
      "tere naam\n"
     ]
    }
   ],
   "source": [
    "movies.remove('gadar')\n",
    "movies.remove('bahubali')\n",
    "for movie in movies:\n",
    "    print(movie)"
   ]
  },
  {
   "cell_type": "code",
   "execution_count": null,
   "metadata": {},
   "outputs": [],
   "source": []
  }
 ],
 "metadata": {
  "kernelspec": {
   "display_name": "Python 3",
   "language": "python",
   "name": "python3"
  },
  "language_info": {
   "codemirror_mode": {
    "name": "ipython",
    "version": 3
   },
   "file_extension": ".py",
   "mimetype": "text/x-python",
   "name": "python",
   "nbconvert_exporter": "python",
   "pygments_lexer": "ipython3",
   "version": "3.12.4"
  }
 },
 "nbformat": 4,
 "nbformat_minor": 2
}
