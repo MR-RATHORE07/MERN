{
 "cells": [
  {
   "cell_type": "code",
   "execution_count": 1,
   "metadata": {},
   "outputs": [
    {
     "name": "stdout",
     "output_type": "stream",
     "text": [
      "['apple', 'watermelon', ' mango', 'banana']\n"
     ]
    }
   ],
   "source": [
    "fruits = [\"apple\", \"watermelon\",\" mango\",\"banana\"]\n",
    "print(fruits)"
   ]
  },
  {
   "cell_type": "code",
   "execution_count": 2,
   "metadata": {},
   "outputs": [
    {
     "name": "stdout",
     "output_type": "stream",
     "text": [
      "['apple', 'watermelon', ' mango', 'banana', 14, 43]\n"
     ]
    }
   ],
   "source": [
    "fruits = [\"apple\", \"watermelon\",\" mango\",\"banana\",14,43]\n",
    "print(fruits)"
   ]
  },
  {
   "cell_type": "code",
   "execution_count": 6,
   "metadata": {},
   "outputs": [
    {
     "name": "stdout",
     "output_type": "stream",
     "text": [
      "banana\n",
      "fruits\n",
      "['apple', ' mango', 'banana', 14, 43, 'guava']\n",
      "['apple', 'papaya', 'banana', 14, 43, 'guava']\n",
      "[]\n"
     ]
    }
   ],
   "source": [
    "fruits = [\"apple\", \"watermelon\",\" mango\",\"banana\",14,43]\n",
    "print(fruits[3])\n",
    "fruits.append(\"guava\")\n",
    "print(\"fruits\")\n",
    "fruits.remove(\"watermelon\")\n",
    "print(fruits)\n",
    "fruits[1]=\"papaya\"\n",
    "print(fruits)\n",
    "fruits.clear()\n",
    "print(fruits)"
   ]
  },
  {
   "cell_type": "code",
   "execution_count": 8,
   "metadata": {},
   "outputs": [
    {
     "name": "stdout",
     "output_type": "stream",
     "text": [
      "a\n",
      "e\n",
      "s\n",
      "o\n",
      "u\n",
      "['a', 'e', 's', 'o', 'u']\n"
     ]
    }
   ],
   "source": [
    "vowel = ['a','e','i','u']\n",
    "vowel.insert(3,'o')\n",
    "for vowe in vowel:\n",
    "    print(vowe)\n",
    "    vowel[2]=\"s\"\n",
    "print(vowel)"
   ]
  },
  {
   "cell_type": "markdown",
   "metadata": {},
   "source": [
    "# dictionary"
   ]
  },
  {
   "cell_type": "markdown",
   "metadata": {},
   "source": [
    "### key:value pairs"
   ]
  },
  {
   "cell_type": "code",
   "execution_count": 14,
   "metadata": {},
   "outputs": [
    {
     "name": "stdout",
     "output_type": "stream",
     "text": [
      "{'brand': 'suzuki', 'model': 'Dzire', 'year': 2015}\n",
      "suzuki\n",
      "Dzire\n"
     ]
    }
   ],
   "source": [
    "cars = {\n",
    "   \"brand\":\"suzuki\",\n",
    "   \"model\":\"Swift\",\n",
    "   \"year\" :2015,\n",
    "   \"color\":\"Blue\"\n",
    "}\n",
    "cars [\"color\"]=\"yellow\"\n",
    "del cars[\"color\"]\n",
    "cars[\"model\"]=\"Dzire\"\n",
    "print(cars)\n",
    "print(cars.get(\"brand\"))\n",
    "print(cars[\"model\"])"
   ]
  },
  {
   "cell_type": "markdown",
   "metadata": {},
   "source": [
    "# Tuple"
   ]
  },
  {
   "cell_type": "code",
   "execution_count": 15,
   "metadata": {},
   "outputs": [
    {
     "name": "stdout",
     "output_type": "stream",
     "text": [
      "('apple', 'banana', 'mango')\n"
     ]
    }
   ],
   "source": [
    "tuple = (\"apple\",\"banana\",\"mango\")\n",
    "print(tuple)"
   ]
  },
  {
   "cell_type": "code",
   "execution_count": 16,
   "metadata": {},
   "outputs": [
    {
     "name": "stdout",
     "output_type": "stream",
     "text": [
      "<class 'tuple'>\n",
      "('apple',)\n"
     ]
    }
   ],
   "source": [
    "tuple = (\"apple\",)\n",
    "print(type(tuple))\n",
    "print(tuple)"
   ]
  },
  {
   "cell_type": "code",
   "execution_count": null,
   "metadata": {},
   "outputs": [],
   "source": []
  }
 ],
 "metadata": {
  "kernelspec": {
   "display_name": "base",
   "language": "python",
   "name": "python3"
  },
  "language_info": {
   "codemirror_mode": {
    "name": "ipython",
    "version": 3
   },
   "file_extension": ".py",
   "mimetype": "text/x-python",
   "name": "python",
   "nbconvert_exporter": "python",
   "pygments_lexer": "ipython3",
   "version": "3.12.4"
  }
 },
 "nbformat": 4,
 "nbformat_minor": 2
}
